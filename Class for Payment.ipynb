{
 "cells": [
  {
   "cell_type": "code",
   "execution_count": null,
   "id": "b4f42067",
   "metadata": {},
   "outputs": [],
   "source": [
    "# This creates the payment class\n",
    "class Payment:\n",
    "    def __init__(self, payment_id, amount, policyholder, product):\n",
    "        self.payment_id = payment_id\n",
    "        self.amount = amount\n",
    "        self.policyholder = policyholder\n",
    "        self.product = product\n",
    "        self.penalty = 0\n",
    "# This will implement the penalties.\n",
    "    def apply_penalty(self, penalty_amount):\n",
    "        self.penalty += penalty_amount\n",
    "# This will implement the reminder\n",
    "    def send_reminder(self):\n",
    "        print(f\"Reminder: Payment of {self.amount} for {self.product.name} is due.\")\n",
    "\n",
    "    def __str__(self):\n",
    "        return (f\"Payment ID: {self.payment_id}, Amount: {self.amount}, \"\n",
    "                f\"Penalty: {self.penalty}, Product: {self.product.name}\")\n"
   ]
  }
 ],
 "metadata": {
  "kernelspec": {
   "display_name": "Python 3 (ipykernel)",
   "language": "python",
   "name": "python3"
  },
  "language_info": {
   "codemirror_mode": {
    "name": "ipython",
    "version": 3
   },
   "file_extension": ".py",
   "mimetype": "text/x-python",
   "name": "python",
   "nbconvert_exporter": "python",
   "pygments_lexer": "ipython3",
   "version": "3.9.12"
  }
 },
 "nbformat": 4,
 "nbformat_minor": 5
}
