{
 "cells": [
  {
   "cell_type": "code",
   "execution_count": null,
   "id": "7c105ed3",
   "metadata": {},
   "outputs": [],
   "source": [
    "# This creates the product class\n",
    "class Product:\n",
    "    def __init__(self, product_id, name, price):\n",
    "        self.product_id = product_id\n",
    "        self.name = name\n",
    "        self.price = price\n",
    "        self.active = True\n",
    "\n",
    "    def update(self, name=None, price=None):\n",
    "        if name:\n",
    "            self.name = name\n",
    "        if price:\n",
    "            self.price = price\n",
    "\n",
    "    def suspend(self):\n",
    "        self.active = False\n",
    "\n",
    "    def __str__(self):\n",
    "        status = \"Available\" if self.active else \"Suspended\"\n",
    "        return f\"{self.name} (ID: {self.product_id}, Price: {self.price}, Status: {status})\"\n"
   ]
  }
 ],
 "metadata": {
  "kernelspec": {
   "display_name": "Python 3 (ipykernel)",
   "language": "python",
   "name": "python3"
  },
  "language_info": {
   "codemirror_mode": {
    "name": "ipython",
    "version": 3
   },
   "file_extension": ".py",
   "mimetype": "text/x-python",
   "name": "python",
   "nbconvert_exporter": "python",
   "pygments_lexer": "ipython3",
   "version": "3.9.12"
  }
 },
 "nbformat": 4,
 "nbformat_minor": 5
}
