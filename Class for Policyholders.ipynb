{
 "cells": [
  {
   "cell_type": "code",
   "execution_count": 1,
   "id": "57511862",
   "metadata": {},
   "outputs": [],
   "source": [
    "# This creates the policyholder class\n",
    "class Policyholder:\n",
    "    def __init__(self, holder_id, name):\n",
    "        self.holder_id = holder_id\n",
    "        self.name = name\n",
    "        self.active = True\n",
    "        self.products = []\n",
    "        self.payments = []\n",
    "\n",
    "    def register_product(self, product):\n",
    "        self.products.append(product)\n",
    "\n",
    "    def suspend(self):\n",
    "        self.active = False\n",
    "\n",
    "    def reactivate(self):\n",
    "        self.active = True\n",
    "\n",
    "    def add_payment(self, payment):\n",
    "        self.payments.append(payment)\n",
    "\n",
    "    def __str__(self):\n",
    "        status = \"Active\" if self.active else \"Suspended\"\n",
    "        product_names = [p.name for p in self.products]\n",
    "        return (f\"Policyholder ID: {self.holder_id}\\n\"\n",
    "                f\"Name: {self.name}\\n\"\n",
    "                f\"Status: {status}\\n\"\n",
    "                f\"Products: {', '.join(product_names)}\\n\"\n",
    "                f\"Payments: {len(self.payments)}\")\n"
   ]
  },
  {
   "cell_type": "code",
   "execution_count": null,
   "id": "d2bffb4d",
   "metadata": {},
   "outputs": [],
   "source": []
  }
 ],
 "metadata": {
  "kernelspec": {
   "display_name": "Python 3 (ipykernel)",
   "language": "python",
   "name": "python3"
  },
  "language_info": {
   "codemirror_mode": {
    "name": "ipython",
    "version": 3
   },
   "file_extension": ".py",
   "mimetype": "text/x-python",
   "name": "python",
   "nbconvert_exporter": "python",
   "pygments_lexer": "ipython3",
   "version": "3.9.12"
  }
 },
 "nbformat": 4,
 "nbformat_minor": 5
}
