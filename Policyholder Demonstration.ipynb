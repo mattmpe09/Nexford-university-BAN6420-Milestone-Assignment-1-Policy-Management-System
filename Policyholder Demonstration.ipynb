{
 "cells": [
  {
   "cell_type": "code",
   "execution_count": 1,
   "id": "68cb743c",
   "metadata": {},
   "outputs": [
    {
     "ename": "ModuleNotFoundError",
     "evalue": "No module named 'policyholder'",
     "output_type": "error",
     "traceback": [
      "\u001b[1;31m---------------------------------------------------------------------------\u001b[0m",
      "\u001b[1;31mModuleNotFoundError\u001b[0m                       Traceback (most recent call last)",
      "Input \u001b[1;32mIn [1]\u001b[0m, in \u001b[0;36m<cell line: 1>\u001b[1;34m()\u001b[0m\n\u001b[1;32m----> 1\u001b[0m \u001b[38;5;28;01mfrom\u001b[39;00m \u001b[38;5;21;01mpolicyholder\u001b[39;00m \u001b[38;5;28;01mimport\u001b[39;00m Policyholder\n\u001b[0;32m      2\u001b[0m \u001b[38;5;28;01mfrom\u001b[39;00m \u001b[38;5;21;01mproduct\u001b[39;00m \u001b[38;5;28;01mimport\u001b[39;00m Product\n\u001b[0;32m      3\u001b[0m \u001b[38;5;28;01mfrom\u001b[39;00m \u001b[38;5;21;01mpayment\u001b[39;00m \u001b[38;5;28;01mimport\u001b[39;00m Payment\n",
      "\u001b[1;31mModuleNotFoundError\u001b[0m: No module named 'policyholder'"
     ]
    }
   ],
   "source": [
    "from policyholder import Policyholder\n",
    "from product import Product\n",
    "from payment import Payment\n",
    "\n",
    "# Sample products \n",
    "prod1 = Product(\"PRD001\", \"House Insurance\", 7000)\n",
    "prod2 = Product(\"PRD002\", \"Life Insurance\", 4000)\n",
    "\n",
    "# Sample policyholders\n",
    "holder1 = Policyholder(\"H001\", \"Peter Johnson\")\n",
    "holder2 = Policyholder(\"H002\", \"Martins Smith\")\n",
    "\n",
    "# Sample Register products\n",
    "holder1.register_product(prod1)\n",
    "holder2.register_product(prod2)\n",
    "\n",
    "# Sample Process payments\n",
    "payment1 = Payment(\"PAID001\", 9000, holder1, prod1)\n",
    "payment2 = Payment(\"PAID002\", 4000, holder2, prod2)\n",
    "\n",
    "holder1.add_payment(payment1)\n",
    "holder2.add_payment(payment2)\n",
    "\n",
    "# Display account details\n",
    "print(\"=== Policyholder 1 ===\")\n",
    "print(holder1)\n",
    "print(\"\\n=== Policyholder 2 ===\")\n",
    "print(holder2)\n"
   ]
  },
  {
   "cell_type": "code",
   "execution_count": null,
   "id": "17596287",
   "metadata": {},
   "outputs": [],
   "source": []
  }
 ],
 "metadata": {
  "kernelspec": {
   "display_name": "Python 3 (ipykernel)",
   "language": "python",
   "name": "python3"
  },
  "language_info": {
   "codemirror_mode": {
    "name": "ipython",
    "version": 3
   },
   "file_extension": ".py",
   "mimetype": "text/x-python",
   "name": "python",
   "nbconvert_exporter": "python",
   "pygments_lexer": "ipython3",
   "version": "3.9.12"
  }
 },
 "nbformat": 4,
 "nbformat_minor": 5
}
