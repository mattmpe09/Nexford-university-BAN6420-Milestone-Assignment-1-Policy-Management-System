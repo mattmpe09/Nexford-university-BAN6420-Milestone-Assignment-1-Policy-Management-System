{
 "cells": [
  {
   "cell_type": "code",
   "execution_count": null,
   "id": "9ecc7fcb",
   "metadata": {},
   "outputs": [],
   "source": [
    "from policyholder import Policyholder\n",
    "from product import Product\n",
    "from payment import Payment\n",
    "\n",
    "# Sample products \n",
    "prod1 = Product(\"PRD001\", \"House Insurance\", 7000)\n",
    "prod2 = Product(\"PRD002\", \"Life Insurance\", 4000)\n",
    "\n",
    "# Sample policyholders\n",
    "holder1 = Policyholder(\"H001\", \"Peter Johnson\")\n",
    "holder2 = Policyholder(\"H002\", \"Martins Smith\")\n",
    "\n",
    "# Sample Register products\n",
    "holder1.register_product(prod1)\n",
    "holder2.register_product(prod2)\n",
    "\n",
    "# Sample Process payments\n",
    "payment1 = Payment(\"PAID001\", 9000, holder1, prod1)\n",
    "payment2 = Payment(\"PAID002\", 4000, holder2, prod2)\n",
    "\n",
    "holder1.add_payment(payment1)\n",
    "holder2.add_payment(payment2)\n",
    "\n",
    "# Display account details\n",
    "print(\"=== Policyholder 1 ===\")\n",
    "print(holder1)\n",
    "print(\"\\n=== Policyholder 2 ===\")\n",
    "print(holder2)\n"
   ]
  }
 ],
 "metadata": {
  "kernelspec": {
   "display_name": "Python 3 (ipykernel)",
   "language": "python",
   "name": "python3"
  },
  "language_info": {
   "codemirror_mode": {
    "name": "ipython",
    "version": 3
   },
   "file_extension": ".py",
   "mimetype": "text/x-python",
   "name": "python",
   "nbconvert_exporter": "python",
   "pygments_lexer": "ipython3",
   "version": "3.9.12"
  }
 },
 "nbformat": 4,
 "nbformat_minor": 5
}
